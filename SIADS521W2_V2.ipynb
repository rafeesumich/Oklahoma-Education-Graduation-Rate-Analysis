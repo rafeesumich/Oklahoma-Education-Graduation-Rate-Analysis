{
 "cells": [
  {
   "cell_type": "markdown",
   "metadata": {},
   "source": [
    "\n",
    "\n",
    "#            A study of Okalahoma Education Graduation Rates"
   ]
  },
  {
   "cell_type": "markdown",
   "metadata": {},
   "source": [
    "Prepared by Rafee Shaik, rafees@umich.edu\n",
    "<br>github repository:"
   ]
  },
  {
   "cell_type": "markdown",
   "metadata": {},
   "source": [
    "#### <b>Overview of the analysis:</b>\n",
    "This work is a study of Okalahoma state graduation rates by ethnic groups in the year 2017.\n",
    "You can get the yearly graduation Rate data from Oklahome state education department webside.\n",
    "Here is the link: https://sde.ok.gov/sde/sites/ok.gov.sde/files/documents/files/2017%20Graduation%20Rate.xlsx\n",
    "\n",
    "\n",
    "<b>Dataset:</b>\n",
    "This dataset contains graduation rates at three levels.\n",
    "1. Overall state level graduation rate\n",
    "2. School level graduation rate, that give graduation rate at HighSchoo level.\n",
    "3. District level graduation rate, that gives graduation rate from PK to 9th grade.\n",
    "\n",
    "\n",
    "<b>Procedure:</b>\n",
    "1. Prepare the dataset: Split the data into three datasets, \n",
    "    <br>i. State level\n",
    "    <br>ii. Highschool level, grades 9 to 12th\n",
    "    <br>iii. District level, grades PK to 8th.\n",
    "2. Exploratory Data Analysis:\n",
    "    <br>i. State level graduation rate analysis, this data is studied at Ethnicity level, and identify the most and least performing groups at state level.\n",
    "    <br>ii. Study the Highschool level graduation rates, identify wich groups are performing least and most.\n",
    "    <br>iii. Study of District level graduation rates, how each ethnic group is performing, see if the same graduation rates are carried over to Highschool and State level rates.\n"
   ]
  },
  {
   "cell_type": "markdown",
   "metadata": {},
   "source": [
    "### Visualization Technique:\n",
    "\n",
    "I'm going to use mainly three visualization techniques for this study:\n",
    "1. <b>Box plots</b>:\n",
    "    Box plots are good starting point for univariot numerical analysis, \n",
    "    Which mean it analyzes single set of data. \n",
    "    It summerizes this data into Quartiles: Q1(25%), Q2(50%) and Q3(75%). \n",
    "    And show us inter quartail ranges (IQR) in a box,  out liers will also be shown. If needed it can also show us mean as well.\n",
    "    When to use it: To get a quick summary of single variable.\n",
    "    Limitions: Box plots cant show distribution of data within a single dataset, Conside violin plot for more detailed study of univariate analysis\n",
    "    \n",
    "2. <b>Violin plots</b>:\n",
    "   Violin plots are best to analyze single variate numerical data. Violin plots can show us distribution of underlying dataset through kernal density function. The distribution can help us identify different categories of data within a single variable. Violin plots will also show us outliers, IQR (Inter Quartile Range). And mean when needed. \n",
    "    each side of the violinplot can be ploted using different categories of data within same dataset.\n",
    "    Limitations: Use a histogram for full univariate analyis. Eventhough Violin plot has Kernal Density fuction builtin, the control ove the visualization is limited. \n",
    "    When to use: To look at the underlying data distribution within a single variable.\n",
    "\n",
    "3. <b>Histogram</b>:\n",
    "    Histograms are another univaite analysis visualization technique. Histograms are best fit to understand the distribution of data.It divides the variable value range into equally sized bins and calculates the frequence of the variable within each bin. Histograms are great fit for probability distribution of continuous variable. \n",
    "\n",
    "Other visualization techniques used in this analysis:\n",
    "4. <b>Scatter plot</b>: Good fit for multivariate analysis. We can use this plot to analyse the relationship between multiple variables, can be used to visualize clustering of data within a dataset. \n",
    "5. <b>Bar chart</b> : Use Bar Charts to compare values of diffrent variables\n",
    "6. <b>Maps</b>: Great tool to plot data over a giographical area and compare, similar to heatmap, but data will be ploted on geographical regions. "
   ]
  },
  {
   "cell_type": "markdown",
   "metadata": {},
   "source": [
    "### Visualization Library:\n",
    "<b>Overview</b>:\n",
    "Main visualization library used in this analyis is <b>seaborn</b>. \n",
    "<br>Seaborn is good fit for my analysis in this paper. It provides abstraction layer on top of matplotlib,It produces attractive and informative statistical graphics, has good integration with <b>pandas</b> library. Seaborn visualization library is created on top of Matplotlib. All the matplotlib kwargs will work with seaborn. Its a <b>opensource</b>, 'free to use' library.\n",
    "<br><b>Creater of this library</b>: Michael Waskom\n",
    "<br><b>How to install it</b>: \n",
    "    <br>from anaconda prompt: conda install seaborn\n",
    "    <br>from python terminal: pip install seaborn\n",
    "<br><b>Limitation</b>: Lack of support for interactivity\n"
   ]
  },
  {
   "cell_type": "markdown",
   "metadata": {},
   "source": [
    "### Hardware and Software dependencies:"
   ]
  },
  {
   "cell_type": "raw",
   "metadata": {},
   "source": [
    "CPython 3.7.3\n",
    "IPython 7.6.1\n",
    "\n",
    "pandas 0.24.2\n",
    "seaborn 0.9.0\n",
    "matplotlib 3.1.0\n",
    "numpy 1.16.4\n",
    "geopandas 0.6.1\n",
    "warnings unknown\n",
    "\n",
    "compiler   : MSC v.1915 64 bit (AMD64)\n",
    "system     : Windows\n",
    "release    : 10\n",
    "machine    : AMD64\n",
    "processor  : Intel64 Family 6 Model 62 Stepping 4, GenuineIntel\n",
    "CPU cores  : 32\n",
    "interpreter: 64bit"
   ]
  },
  {
   "cell_type": "code",
   "execution_count": null,
   "metadata": {},
   "outputs": [],
   "source": [
    "%load_ext watermark\n",
    "%watermark -v -m -p pandas,seaborn,matplotlib,numpy,geopandas,warnings"
   ]
  },
  {
   "cell_type": "code",
   "execution_count": null,
   "metadata": {},
   "outputs": [],
   "source": [
    "#Import required libraries\n",
    "\n",
    "import pandas as pd\n",
    "import seaborn as sns\n",
    "import matplotlib.pyplot as plt\n",
    "import numpy as np\n",
    "import geopandas as gpd\n",
    "\n",
    "#Supress warnings\n",
    "import warnings\n",
    "warnings.filterwarnings('ignore')"
   ]
  },
  {
   "cell_type": "markdown",
   "metadata": {},
   "source": [
    "#### Get relavent data from public datastore or from local computer"
   ]
  },
  {
   "cell_type": "code",
   "execution_count": null,
   "metadata": {},
   "outputs": [],
   "source": [
    "#Get the dataset\n",
    "df_orig=pd.read_excel('https://sde.ok.gov/sde/sites/ok.gov.sde/files/documents/files/2017%20Graduation%20Rate.xlsx')"
   ]
  },
  {
   "cell_type": "markdown",
   "metadata": {},
   "source": [
    "#### About this dataset:\n",
    "    This dataset is created by state of Oklahoma every year. It contains county name, school district name,                  student graduation rate summerized by ethnicity at multiple levels of schooling: PK-to-8th grade, and 9th-to-12th.            We used most recent data that is avialble for public from state of oklahoma.                                              Elementry and Middle school gradualtion data is summerized at District level."
   ]
  },
  {
   "cell_type": "markdown",
   "metadata": {},
   "source": [
    "### Prepare Dataset for Analysis 1: State level graduation rates"
   ]
  },
  {
   "cell_type": "code",
   "execution_count": null,
   "metadata": {},
   "outputs": [],
   "source": [
    "#Make a copy of original dataset.\n",
    "df_state=df_orig.copy(deep=True)\n",
    "\n",
    "#filter state level data only\n",
    "df_state=df_state[df_state['EducationAgencyType']=='State']\n",
    "#Data cleaning: \n",
    "#remove percentage symboles and other panctuations from numerical columns and convert them into Pandas numerical type\n",
    "#We are also going to sort the data by value to easily identify the most and least performing ethnic groups.\n",
    "df_state['FourYearGraduationRate']=pd.to_numeric(df_state['FourYearGraduationRate'].str.replace('%',''))\n",
    "df_state = df_state.sort_values('FourYearGraduationRate',ascending=False).reset_index(drop=True)"
   ]
  },
  {
   "cell_type": "code",
   "execution_count": null,
   "metadata": {},
   "outputs": [],
   "source": [
    "df_state.head()"
   ]
  },
  {
   "cell_type": "code",
   "execution_count": null,
   "metadata": {},
   "outputs": [],
   "source": [
    "#Prepare a bar chart of this data, on x-axis mark the ethnicity, and on y-axis plot the graduation rate of each ethinicity.\n",
    "\n",
    "#Set the figure size to 12 by 8 inches, this is matplotlib property.\n",
    "plt.figure(figsize=(12,8))\n",
    "\n",
    "#Use seaborn barplot method to plot the Bar chart. Most of the seabon artist methods return axes that is same as in Matplotlib.\n",
    "ax = sns.barplot(x=df_state['ReportSubgroup'],y=df_state['FourYearGraduationRate']\n",
    "            ,order=df_state['ReportSubgroup']\n",
    "           )\n",
    "# Use the axes object to set the X axis label and Y labels and Figure title\n",
    "ax.set(xlabel='Ethnicity',ylabel='Granduation Rate',title='State level graduation rate in different ethnic groups')\n",
    "#Since we hive long names for each bar we need to rotate them to 90 degree so that we can read them properly\n",
    "for item in ax.get_xticklabels(): item.set_rotation(90)\n",
    "#Also I'm going to put bar height at the top of the bar. rotated to 45 degree, plot this height as text. color it in magenta\n",
    "for i, v in enumerate(df_state['FourYearGraduationRate'].iteritems()):        \n",
    "    ax.text(i ,v[1], \"{:,}\".format(v[1]), color='m', va ='bottom', rotation=45)"
   ]
  },
  {
   "cell_type": "markdown",
   "metadata": {},
   "source": [
    "##### Observations from above chart:\n",
    "From this graph you can clearly see Asians are most performing and English-Language-Learner are leat performing"
   ]
  },
  {
   "cell_type": "markdown",
   "metadata": {},
   "source": [
    "### Demonstration of Data Preperation"
   ]
  },
  {
   "cell_type": "markdown",
   "metadata": {},
   "source": [
    "### Prepare Dataset for Analysis 2: Highschool and Elemetery school level analysis"
   ]
  },
  {
   "cell_type": "code",
   "execution_count": null,
   "metadata": {},
   "outputs": [],
   "source": [
    "#Prepare School and District level ETHINIC based dataframes\n",
    "#Select only required columns\n",
    "columns = ['CohortGraduationYear', 'EducationAgencyType', \n",
    "       'Districtcode',  'CountyName', 'DistrictName',\n",
    "        'GradeLevelLow', 'GradeLevelHigh', 'ReportSubgroup',\n",
    "       'FourYearGraduationRate']\n",
    "df=df_orig[columns]\n",
    "#Remove % sign and other markers from numerical data\n",
    "df['FourYearGraduationRate'] = df['FourYearGraduationRate'].str.replace('>=','').str.replace('%','').replace('***',np.nan).str.replace('<','')\n",
    "#We're going to study the data at ethnic level so remove aggregated information rows (marked by 'All' in 'ReportSubgroup' column) from data \n",
    "df=df[df['ReportSubgroup']!='All']\n",
    "#Remove null value rows\n",
    "df=df.dropna()\n",
    "#convert Graduation data to panda's numeric data type for easy analysis.\n",
    "df['FourYearGraduationRate']=pd.to_numeric(df['FourYearGraduationRate'])\n",
    "#Seperate this dataset into two sets, one with HighSchool level data and One upto 8th\n",
    "\n",
    "#Grades '9 and up' dataset - Highschools\n",
    "df_school= df[df['EducationAgencyType']=='School']\n",
    "#Grades 'PK to 8th' dataset\n",
    "df_district= df[df['EducationAgencyType']=='District']"
   ]
  },
  {
   "cell_type": "code",
   "execution_count": null,
   "metadata": {},
   "outputs": [],
   "source": [
    "#df[df['EducationAgencyType']=='District'].head()\n",
    "df_school.tail()"
   ]
  },
  {
   "cell_type": "markdown",
   "metadata": {},
   "source": [
    "### Demonstration 1 Visualization: Boxplot"
   ]
  },
  {
   "cell_type": "code",
   "execution_count": null,
   "metadata": {},
   "outputs": [],
   "source": [
    "#School level Analytics\n",
    "#Set figure size to 16X8 inches\n",
    "plt.figure(figsize=(16,8))\n",
    "# On X axis we're going to put Ethinic groups, \n",
    "#Seaborn will automatically split the data into these groups and give us a category wise boxplots\n",
    "#and we want to show mean point as well.\n",
    "ax2= sns.boxplot(x='ReportSubgroup',y='FourYearGraduationRate', data=df_school, showmeans=True)\n",
    "\n",
    "#\n",
    "for item in ax2.get_xticklabels(): item.set_rotation(90)\n",
    "ax2.set(xlabel='Ethnicity',ylabel='Granduation Rate')\n",
    "#Observe how I'm setting the title here, earlier I set the title using axes object along with X and Y axis labels.\n",
    "#Increase the title side and use color green.\n",
    "plt.gca().set_title('2017 Highschool Granduation Rates in Oklahoma by ethinicity', fontsize=18,color='g')\n",
    "plt.show()"
   ]
  },
  {
   "cell_type": "markdown",
   "metadata": {},
   "source": [
    "##### Observation: \n",
    "We can clearly see Graduation Rate changed at HighSchool level from state level, at Highschool level, 'Regular Education' group is performing better than 'Asian' group.\n",
    "English Language Learners are sill performing least."
   ]
  },
  {
   "cell_type": "markdown",
   "metadata": {},
   "source": [
    "### Demonstration 1 Visualization: Violinplot\n",
    "Lets explore how data is distributed within each group, Violin plots are best in this case."
   ]
  },
  {
   "cell_type": "code",
   "execution_count": null,
   "metadata": {},
   "outputs": [],
   "source": [
    "plt.figure(figsize=(16,8))\n",
    "ax3= sns.violinplot(x='ReportSubgroup',y='FourYearGraduationRate', data=df_school,showmeans=True)\n",
    "for item in ax3.get_xticklabels(): item.set_rotation(90)\n",
    "plt.gca().set_title('2017 Highschool Granduation Rates in Oklahoma by ethinicity', fontsize=18,color='g')\n",
    "ax3.set(xlabel='Ethnicity',ylabel='Granduation Rate')\n",
    "plt.show()\n",
    "\n",
    "# Violinplots have similar syntax compared to boxplots. \n",
    "#but they will provide significant information within single visualization\n",
    "# you can also use one side of the plot for one category and other side for another category with in the plot.\n",
    "# use the 'hue' and 'split' parameters to split the data within the variable.\n",
    "#Here is example syntax\n",
    "#ax = sns.violinplot(x=\"day\", y=\"total_bill\", hue=\"smoker\", data=tips, palette=\"muted\", split=True)"
   ]
  },
  {
   "cell_type": "markdown",
   "metadata": {},
   "source": [
    "##### Observation:\n",
    "The mean of of all ethnic groups is around 80%, except in group 'English Language Learners'. Also the data is skewed toward the first quantile of the set.\n",
    "From this graph we can conclude Graduation Retes are significantly lower in 'English Language Learners'"
   ]
  },
  {
   "cell_type": "markdown",
   "metadata": {},
   "source": [
    "### Analysis 2: District level graduation rates\n",
    "<b>Objective:</b> At school level analysis (above graph) we concluded that graduation rate in 'English Language Learners' is significanly lower when compared to other groups. We will prepare similar analysis and see if 'English Language Learner' group gradualtion rate is lowest at Elementry-Middle-school level as well."
   ]
  },
  {
   "cell_type": "code",
   "execution_count": null,
   "metadata": {},
   "outputs": [],
   "source": [
    "#District level Analytics\n",
    "plt.figure(figsize=(16,8))\n",
    "ax4= sns.boxplot(x='ReportSubgroup',y='FourYearGraduationRate', data=df_district, showmeans=True)\n",
    "for item in ax4.get_xticklabels(): item.set_rotation(90)\n",
    "ax4.set(xlabel='Ethnicity',ylabel='Granduation Rate')\n",
    "plt.gca().set_title('2017 Primary and Midschool Granduation Rates in Oklahoma by ethinicity', fontsize=18,color='g')\n",
    "plt.show()"
   ]
  },
  {
   "cell_type": "code",
   "execution_count": null,
   "metadata": {},
   "outputs": [],
   "source": [
    "plt.figure(figsize=(16,8))\n",
    "ax5= sns.violinplot(x='ReportSubgroup',y='FourYearGraduationRate', data=df_district,showmeans=True)\n",
    "for item in ax5.get_xticklabels(): item.set_rotation(90)\n",
    "plt.gca().set_title('2017 Primary and Midschool Granduation Rates in Oklahoma by ethinicity', fontsize=18,color='g')\n",
    "ax5.set(xlabel='Ethnicity',ylabel='Granduation Rate')\n",
    "plt.show()"
   ]
  },
  {
   "cell_type": "markdown",
   "metadata": {},
   "source": [
    "##### Conclusion on Analysis 2:\n",
    "Graduation rate in 'English Language Learner' is the lowest in both Highschool level and Elementry+midschool levels"
   ]
  },
  {
   "cell_type": "markdown",
   "metadata": {},
   "source": [
    "### Analysis 3: Overall Distribution of Graduation Rate\n",
    "Irrespective of ethnicity lets see how graduation rates are distributed within Highschool level and Mid+Elementry School levels"
   ]
  },
  {
   "cell_type": "markdown",
   "metadata": {},
   "source": [
    "#### Data Prepation"
   ]
  },
  {
   "cell_type": "code",
   "execution_count": null,
   "metadata": {},
   "outputs": [],
   "source": [
    "#Remove all the non-numerical charectars from numeric columns\n",
    "df_all=df_orig[df_orig['ReportSubgroup']=='All']\n",
    "df_all['FourYearGraduationRate']=df_all['FourYearGraduationRate'].str.replace('>','')\n",
    "df_all['FourYearGraduationRate']=df_all['FourYearGraduationRate'].str.replace('%','')\n",
    "df_all['FourYearGraduationRate']=df_all['FourYearGraduationRate'].str.replace('<','')\n",
    "df_all['FourYearGraduationRate']=df_all['FourYearGraduationRate'].str.replace('=','')\n",
    "df_all=df_all[df_all['FourYearGraduationRate']!='***']\n",
    "\n",
    "### Divide this data into two datasets, one at HighSchool level and one for Elementry+Mid School level\n",
    "#Prepare school level and District level data frames\n",
    "df_all['FourYearGraduationRate']=pd.to_numeric(df_all['FourYearGraduationRate'])\n",
    "#Grades '9 and up' dataset - Highschools\n",
    "df_school_all= df_all[df_all['EducationAgencyType']=='School']\n",
    "#Grades 'PK to 9th' dataset\n",
    "\n",
    "df_district_all= df_all[df_all['EducationAgencyType']=='District']"
   ]
  },
  {
   "cell_type": "markdown",
   "metadata": {},
   "source": [
    "#### Analysis 3: Visualization with Histogram\n",
    "Distribution od Highschool graduation rates on Histogram"
   ]
  },
  {
   "cell_type": "code",
   "execution_count": null,
   "metadata": {},
   "outputs": [],
   "source": [
    "#Histograms in seaborn can be ploted using the function distplot. Histograms take single dimention data, \n",
    "#optionally you can provide bin size with parameter 'bins' and ask to plot density estimation as well with parameter 'kde=True/False'\n",
    "#you can also indicate whether you want to plot rugplot or not.\n",
    "\n",
    "plt.figure(figsize=(14,8))\n",
    "ax4=sns.distplot(df_school_all['FourYearGraduationRate']\n",
    "                ,bins=30\n",
    "                ,kde=True\n",
    "                ,rug=False\n",
    "                )\n",
    "ax4.set(ylabel='Density',xlabel='Granduation Rate', title='Highshool level graduation rate distribution')\n",
    "\n",
    "plt.show()"
   ]
  },
  {
   "cell_type": "code",
   "execution_count": null,
   "metadata": {},
   "outputs": [],
   "source": [
    "#Observe the rug plot option usage in this graph\n",
    "plt.figure(figsize=(14,8))\n",
    "ax5=sns.distplot(df_district_all['FourYearGraduationRate'], bins=30\n",
    "                ,kde=True\n",
    "                ,rug=True\n",
    "                )\n",
    "plt.show()"
   ]
  },
  {
   "cell_type": "markdown",
   "metadata": {},
   "source": [
    "#### Analysis 4: Heatmap over Okalahoma school district weight by  graduation rates \n",
    "We will be using geopandas for this analysis to plot a heat map over okalahoma with School level graduation rates"
   ]
  },
  {
   "cell_type": "code",
   "execution_count": null,
   "metadata": {},
   "outputs": [],
   "source": [
    "#\n",
    "#School districts Shape file\n",
    "fp_cousub=r'C:\\Users\\rafeeshaik\\Downloads\\tl_2017_40_cousub\\tl_2017_40_cousub.shp'\n",
    "map_cousub= gpd.read_file(fp_cousub)\n",
    "\n",
    "#Downsize the school level graduation rates to district level\n",
    "downsized_school_df = df_school_all[['DistrictName','FourYearGraduationRate']]\n",
    "downsized_school_df=downsized_school_df.groupby('DistrictName').agg({'FourYearGraduationRate':np.mean})\n",
    "downsized_school_df=downsized_school_df.reset_index()\n",
    "#Make sure District names are matching, turn both names to upper case\n",
    "downsized_school_df.columns = ['NAME', 'FourYearGraduationRate']\n",
    "downsized_school_df['NAME'] = downsized_school_df['NAME'].str.upper()\n",
    "map_cousub['NAME'] = map_cousub['NAME'].str.upper()\n",
    "#Merge shapefile with school level graduation rate dataframe\n",
    "map_GradScore = map_cousub.merge(downsized_school_df, how='left',on='NAME')\n",
    "\n"
   ]
  },
  {
   "cell_type": "code",
   "execution_count": null,
   "metadata": {},
   "outputs": [],
   "source": [
    "#Plot the Graduation Rate data over Oklahoma school district areas\n",
    "fig, ax = plt.subplots(1, 1,figsize=(15,15))\n",
    "map_GradScore.plot(column='FourYearGraduationRate', ax=ax\n",
    "                   #,cmap='tab20'\n",
    "                   ,edgecolor='dimgrey'\n",
    "                   ,legend=True\n",
    "                   ,legend_kwds={'label': \"Graduation rate legend\", 'orientation': \"horizontal\"})\n",
    "ax.set_title('Oklahoma 2017 School district level graduation rate',fontsize=20)\n",
    "ax.set_axis_off()\n",
    "plt.show()"
   ]
  },
  {
   "cell_type": "code",
   "execution_count": null,
   "metadata": {},
   "outputs": [],
   "source": [
    "#Preparing a county level heatmap\n",
    "fp_county = \"C:/Users/rafeeshaik/OneDrive/MADS/SIADS 521/Assignment 2/tl_2017_us_county/tl_2017_us_county.shp\"\n",
    "map_county_df = gpd.read_file(fp_county)\n",
    "#Get oklahoma county data\n",
    "map_df_ok_county=map_county_df[map_county_df['STATEFP']=='40']\n",
    "# check data type so we can see that this is not a normal dataframe, but a GEOdataframe\n",
    "map_df_ok_county.head()\n",
    "\n",
    "#Further downsample the school graduation data to county level\n",
    "downsized_county_df = df_school_all[['CountyName','FourYearGraduationRate']]\n",
    "downsized_county_df=downsized_county_df.groupby('CountyName').agg({'FourYearGraduationRate':np.mean})\n",
    "downsized_county_df=downsized_county_df.reset_index()\n",
    "\n",
    "downsized_county_df.columns=['NAME', 'FourYearGraduationRate']\n",
    "downsized_county_df['NAME']=downsized_county_df['NAME'].str.strip()\n",
    "map_df_ok_county['NAME']=map_df_ok_county['NAME'].str.upper()\n",
    "map_df_county_join = map_df_ok_county.merge(downsized_county_df,how='left',on='NAME')\n"
   ]
  },
  {
   "cell_type": "code",
   "execution_count": null,
   "metadata": {},
   "outputs": [],
   "source": [
    "fig, ax = plt.subplots(1, 1,figsize=(15,15))\n",
    "map_df_county_join.plot(column='FourYearGraduationRate', ax=ax\n",
    "                   #,cmap='tab20'\n",
    "                   , edgecolor='dimgrey'\n",
    "                   ,legend=True\n",
    "                   ,legend_kwds={'label': \"Graduation rate legend\", 'orientation': \"horizontal\"})\n",
    "ax.set_title('Oklahoma 2017 county level graduation rate',fontsize=20)\n",
    "ax.set_axis_off()\n",
    "plt.show()"
   ]
  },
  {
   "cell_type": "code",
   "execution_count": null,
   "metadata": {},
   "outputs": [],
   "source": [
    "#lets combine the graduation data with county population data \n",
    "#and see if there is any correlation exists between country population and graduation rates"
   ]
  },
  {
   "cell_type": "code",
   "execution_count": null,
   "metadata": {},
   "outputs": [],
   "source": [
    "#download the oklahoma population data from link below\n",
    "#https://www.oklahoma-demographics.com/counties_by_population\n",
    "population = pd.read_html('https://www.oklahoma-demographics.com/counties_by_population')[0]\n",
    "population=population.iloc[:77]\n",
    "population['Population'] = pd.to_numeric(population['Population'])\n",
    "population['County'] = population['County'].str.replace(' County','')\n",
    "population=population.rename(columns={'County':'NAME'})\n",
    "\n",
    "population['NAME']=population['NAME'].str.upper()\n",
    "pop_grd_rate_df = population.merge(downsized_county_df, how='left', on ='NAME')"
   ]
  },
  {
   "cell_type": "code",
   "execution_count": null,
   "metadata": {},
   "outputs": [],
   "source": [
    "#Seaborn scatterplot dipecting Population and graduation rates at county level\n",
    "sns.scatterplot( x='Population',y='FourYearGraduationRate',data=pop_grd_rate_df)"
   ]
  },
  {
   "cell_type": "code",
   "execution_count": null,
   "metadata": {},
   "outputs": [],
   "source": [
    "#Looks like there are three large counties that are causing our data to be skewed to the right, so we're going to filter them out\n",
    "sns.scatterplot( x='Population',y='FourYearGraduationRate',data=pop_grd_rate_df.iloc[3:])"
   ]
  },
  {
   "cell_type": "markdown",
   "metadata": {},
   "source": [
    "##### Plot this scatterplot using Plotly express and show trendline."
   ]
  },
  {
   "cell_type": "code",
   "execution_count": null,
   "metadata": {},
   "outputs": [],
   "source": [
    "import plotly.express as px\n",
    "fig = px.scatter(pop_grd_rate_df.iloc[3:], x='Population',y='FourYearGraduationRate', trendline=\"ols\")\n",
    "fig.show()"
   ]
  },
  {
   "cell_type": "markdown",
   "metadata": {},
   "source": [
    "##### Observation from above chart:\n",
    "There seem to be a low level positive correlation between county population and graduation rate."
   ]
  },
  {
   "cell_type": "code",
   "execution_count": null,
   "metadata": {},
   "outputs": [],
   "source": [
    "national_graduationRate_df = pd.read_html('https://www.governing.com/gov-data/education-data/state-high-school-graduation-rates-by-race-ethnicity.html')[0]\n",
    "#national_graduationRate_df.head()"
   ]
  },
  {
   "cell_type": "code",
   "execution_count": null,
   "metadata": {},
   "outputs": [],
   "source": [
    "national_graduationRate_df.plot(kind='box')"
   ]
  },
  {
   "cell_type": "markdown",
   "metadata": {},
   "source": [
    "### Further exploration opportunity\n",
    "One can take the oklahoma graduation rate in different ethnic groups and compare it againest National level graduation data"
   ]
  },
  {
   "cell_type": "code",
   "execution_count": null,
   "metadata": {},
   "outputs": [],
   "source": []
  }
 ],
 "metadata": {
  "kernelspec": {
   "display_name": "Python 3",
   "language": "python",
   "name": "python3"
  },
  "language_info": {
   "codemirror_mode": {
    "name": "ipython",
    "version": 3
   },
   "file_extension": ".py",
   "mimetype": "text/x-python",
   "name": "python",
   "nbconvert_exporter": "python",
   "pygments_lexer": "ipython3",
   "version": "3.7.3"
  }
 },
 "nbformat": 4,
 "nbformat_minor": 2
}
